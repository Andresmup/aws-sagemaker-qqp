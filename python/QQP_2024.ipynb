{
 "cells": [
  {
   "cell_type": "markdown",
   "id": "7c765e15-f607-461f-bc5e-490314676d6c",
   "metadata": {},
   "source": [
    "## SETUP AND IMPORT LIBRARIES"
   ]
  },
  {
   "cell_type": "code",
   "execution_count": 1,
   "id": "306f3d87-2255-47b1-b784-1c3d16ef823f",
   "metadata": {
    "tags": []
   },
   "outputs": [
    {
     "name": "stdout",
     "output_type": "stream",
     "text": [
      "sagemaker.config INFO - Not applying SDK defaults from location: /etc/xdg/sagemaker/config.yaml\n",
      "sagemaker.config INFO - Not applying SDK defaults from location: /home/ec2-user/.config/sagemaker/config.yaml\n"
     ]
    },
    {
     "name": "stderr",
     "output_type": "stream",
     "text": [
      "Matplotlib is building the font cache; this may take a moment.\n"
     ]
    }
   ],
   "source": [
    "import boto3\n",
    "from sagemaker import get_execution_role\n",
    "\n",
    "import matplotlib.pyplot as plt\n",
    "import seaborn as sns\n",
    "\n",
    "import pandas as pd\n",
    "import io\n",
    "\n",
    "# Initialize an S3 client using boto3\n",
    "s3 = boto3.client('s3')\n",
    "\n",
    "#Get the role\n",
    "role = get_execution_role()"
   ]
  },
  {
   "cell_type": "code",
   "execution_count": 2,
   "id": "379812a3-c296-4faf-b4ee-647fedd52aff",
   "metadata": {
    "tags": []
   },
   "outputs": [],
   "source": [
    "#Define the bucket with the qqp csv\n",
    "source_bucket = \"bucket-qqp\""
   ]
  },
  {
   "cell_type": "code",
   "execution_count": 3,
   "id": "eddaca72-22c4-45b4-98b1-c4f0d3d46dc7",
   "metadata": {
    "tags": []
   },
   "outputs": [
    {
     "name": "stdout",
     "output_type": "stream",
     "text": [
      "QQP_2024/01-2024_01.csv\n",
      "QQP_2024/01-2024_02.csv\n",
      "QQP_2024/02-2024_01.csv\n",
      "QQP_2024/02-2024_02.csv\n",
      "QQP_2024/03-2024_01.csv\n",
      "QQP_2024/03-2024_02.csv\n",
      "QQP_2024/04-2024_01.csv\n",
      "QQP_2024/04-2024_02.csv\n",
      "QQP_2024/05-2024_01.csv\n",
      "QQP_2024/05-2024_02.csv\n"
     ]
    }
   ],
   "source": [
    "#Check bucket content\n",
    "for key in s3.list_objects(Bucket='bucket-qqp')['Contents']:\n",
    "    print(key['Key'])"
   ]
  },
  {
   "cell_type": "markdown",
   "id": "fb2c9eb8-b356-44ca-8a1f-843cf1eaed51",
   "metadata": {},
   "source": [
    "## READ CSV FROM S3"
   ]
  },
  {
   "cell_type": "code",
   "execution_count": 4,
   "id": "93b04661-2c40-469d-8882-1f2e68d37b6d",
   "metadata": {
    "tags": []
   },
   "outputs": [],
   "source": [
    "#Define prefix of s3\n",
    "prefix = \"QQP_2024\""
   ]
  },
  {
   "cell_type": "code",
   "execution_count": 5,
   "id": "de3d2e67-05eb-41f6-aa80-df6205a9996f",
   "metadata": {
    "tags": []
   },
   "outputs": [],
   "source": [
    "#Setup a function to retrieve csv from csv using boto3\n",
    "def get_csv_from_s3(source_bucket, prefix, filename, colum_name:None):\n",
    "    \n",
    "    #Path to the file in the bucket\n",
    "    source_file = '{}/{}'.format(prefix, filename)\n",
    "    \n",
    "    # Retrieve the CSV file from the source S3 bucket\n",
    "    obj = s3.get_object(Bucket=source_bucket, Key=source_file)\n",
    "\n",
    "    # Read the CSV file into a pandas DataFrame\n",
    "    return pd.read_csv(io.BytesIO(obj['Body'].read()), names=column_name, header=None)"
   ]
  },
  {
   "cell_type": "code",
   "execution_count": 6,
   "id": "9ec48575-c695-4b12-a656-dafefd87a396",
   "metadata": {
    "tags": []
   },
   "outputs": [],
   "source": [
    "#Define a list for column names\n",
    "column_name = [\"PRODUCTO\",\"PRESENTACION\",\"MARCA\",\"CATEGORIA\",\"CATALOGO\",\"PRECIO\",\"FECHA_REGISTRO\",\"CADENA_COMERCIAL\",\n",
    "               \"GIRO\",\"NOMBRE_COMERCIAL\",\"DIRECCION\", \"ESTADO\",\"MUNICIPIO\",\"LATITUD\",\"LONGITUD\"]"
   ]
  },
  {
   "cell_type": "code",
   "execution_count": 7,
   "id": "c8566756-758b-4dd0-b1a9-b2cfb0da4e5e",
   "metadata": {
    "tags": []
   },
   "outputs": [],
   "source": [
    "#Load january \n",
    "df_01_2024_P1 = get_csv_from_s3(source_bucket,prefix,'01-2024_01.csv',column_name)\n",
    "df_01_2024_P2 = get_csv_from_s3(source_bucket,prefix,'01-2024_02.csv',column_name)"
   ]
  },
  {
   "cell_type": "code",
   "execution_count": 8,
   "id": "2b8c41e6-3c7a-4937-9976-cdb093cee1f9",
   "metadata": {
    "tags": []
   },
   "outputs": [],
   "source": [
    "#Load february\n",
    "df_02_2024_P1 = get_csv_from_s3(source_bucket,prefix,'02-2024_01.csv',column_name)\n",
    "df_02_2024_P2 = get_csv_from_s3(source_bucket,prefix,'02-2024_02.csv',column_name)"
   ]
  },
  {
   "cell_type": "code",
   "execution_count": 9,
   "id": "fad88599-3a81-43b6-879d-da359212b7af",
   "metadata": {
    "tags": []
   },
   "outputs": [],
   "source": [
    "#Load march\n",
    "df_03_2024_P1 = get_csv_from_s3(source_bucket,prefix,'03-2024_01.csv',column_name)\n",
    "df_03_2024_P2 = get_csv_from_s3(source_bucket,prefix,'03-2024_02.csv',column_name)"
   ]
  },
  {
   "cell_type": "code",
   "execution_count": 10,
   "id": "ed8070da-37e5-4071-ad75-dae657696410",
   "metadata": {
    "tags": []
   },
   "outputs": [],
   "source": [
    "#Load april\n",
    "df_04_2024_P1 = get_csv_from_s3(source_bucket,prefix,'04-2024_01.csv',column_name)\n",
    "df_04_2024_P2 = get_csv_from_s3(source_bucket,prefix,'04-2024_02.csv',column_name)"
   ]
  },
  {
   "cell_type": "code",
   "execution_count": 11,
   "id": "3fa3672e-f160-431b-9a2e-ae1c77c811df",
   "metadata": {
    "tags": []
   },
   "outputs": [],
   "source": [
    "#Load may\n",
    "df_05_2024_P1 = get_csv_from_s3(source_bucket,prefix,'05-2024_01.csv',column_name)\n",
    "df_05_2024_P2 = get_csv_from_s3(source_bucket,prefix,'05-2024_02.csv',column_name)"
   ]
  },
  {
   "cell_type": "code",
   "execution_count": 12,
   "id": "9fc88754-a89c-4876-86c1-4c58235d472b",
   "metadata": {
    "tags": []
   },
   "outputs": [
    {
     "data": {
      "text/html": [
       "<div>\n",
       "<style scoped>\n",
       "    .dataframe tbody tr th:only-of-type {\n",
       "        vertical-align: middle;\n",
       "    }\n",
       "\n",
       "    .dataframe tbody tr th {\n",
       "        vertical-align: top;\n",
       "    }\n",
       "\n",
       "    .dataframe thead th {\n",
       "        text-align: right;\n",
       "    }\n",
       "</style>\n",
       "<table border=\"1\" class=\"dataframe\">\n",
       "  <thead>\n",
       "    <tr style=\"text-align: right;\">\n",
       "      <th></th>\n",
       "      <th>PRODUCTO</th>\n",
       "      <th>PRESENTACION</th>\n",
       "      <th>MARCA</th>\n",
       "      <th>CATEGORIA</th>\n",
       "      <th>CATALOGO</th>\n",
       "      <th>PRECIO</th>\n",
       "      <th>FECHA_REGISTRO</th>\n",
       "      <th>CADENA_COMERCIAL</th>\n",
       "      <th>GIRO</th>\n",
       "      <th>NOMBRE_COMERCIAL</th>\n",
       "      <th>DIRECCION</th>\n",
       "      <th>ESTADO</th>\n",
       "      <th>MUNICIPIO</th>\n",
       "      <th>LATITUD</th>\n",
       "      <th>LONGITUD</th>\n",
       "    </tr>\n",
       "  </thead>\n",
       "  <tbody>\n",
       "    <tr>\n",
       "      <th>0</th>\n",
       "      <td>ASPIRADORAS</td>\n",
       "      <td>HV-120 KG3 A. POTENCIA 400 WATTS</td>\n",
       "      <td>KOBLENZ. ASPIRADORA MANUAL DE ALTO PODER</td>\n",
       "      <td>APARATOS ELECTRICOS</td>\n",
       "      <td>ELECTRODOMESTICOS</td>\n",
       "      <td>899.0</td>\n",
       "      <td>2024-01-02</td>\n",
       "      <td>COPPEL</td>\n",
       "      <td>TIENDA DE ELECTRODOMÉSTICOS</td>\n",
       "      <td>COPPEL SUCURSAL ESPACIO AGUASCALIENTES</td>\n",
       "      <td>TECNOLOGICO 120, INT. CENTRO COMERCIAL ESPACIO...</td>\n",
       "      <td>AGUASCALIENTES</td>\n",
       "      <td>AGUASCALIENTES</td>\n",
       "      <td>21.87949</td>\n",
       "      <td>-102.260011</td>\n",
       "    </tr>\n",
       "    <tr>\n",
       "      <th>1</th>\n",
       "      <td>BARRA DE SONIDO</td>\n",
       "      <td>S40 Q. BLUETOOTH, USB. POTENCIA 300 W. SONIDO 2.1</td>\n",
       "      <td>LG</td>\n",
       "      <td>APARATOS ELECTRONICOS</td>\n",
       "      <td>ELECTRODOMESTICOS</td>\n",
       "      <td>4299.0</td>\n",
       "      <td>2024-01-02</td>\n",
       "      <td>COPPEL</td>\n",
       "      <td>TIENDA DE ELECTRODOMÉSTICOS</td>\n",
       "      <td>COPPEL SUCURSAL ESPACIO AGUASCALIENTES</td>\n",
       "      <td>TECNOLOGICO 120, INT. CENTRO COMERCIAL ESPACIO...</td>\n",
       "      <td>AGUASCALIENTES</td>\n",
       "      <td>AGUASCALIENTES</td>\n",
       "      <td>21.87949</td>\n",
       "      <td>-102.260011</td>\n",
       "    </tr>\n",
       "    <tr>\n",
       "      <th>2</th>\n",
       "      <td>BARRA DE SONIDO</td>\n",
       "      <td>HT-S20R. BLUETOOTH, USB. POTENCIA 400 W. SONID...</td>\n",
       "      <td>SONY</td>\n",
       "      <td>APARATOS ELECTRONICOS</td>\n",
       "      <td>ELECTRODOMESTICOS</td>\n",
       "      <td>4499.0</td>\n",
       "      <td>2024-01-02</td>\n",
       "      <td>COPPEL</td>\n",
       "      <td>TIENDA DE ELECTRODOMÉSTICOS</td>\n",
       "      <td>COPPEL SUCURSAL ESPACIO AGUASCALIENTES</td>\n",
       "      <td>TECNOLOGICO 120, INT. CENTRO COMERCIAL ESPACIO...</td>\n",
       "      <td>AGUASCALIENTES</td>\n",
       "      <td>AGUASCALIENTES</td>\n",
       "      <td>21.87949</td>\n",
       "      <td>-102.260011</td>\n",
       "    </tr>\n",
       "    <tr>\n",
       "      <th>3</th>\n",
       "      <td>BARRA DE SONIDO</td>\n",
       "      <td>S-400 O HT-S400. BLUETOOTH. USB. POTENCIA 330 ...</td>\n",
       "      <td>SONY</td>\n",
       "      <td>APARATOS ELECTRONICOS</td>\n",
       "      <td>ELECTRODOMESTICOS</td>\n",
       "      <td>4899.0</td>\n",
       "      <td>2024-01-02</td>\n",
       "      <td>COPPEL</td>\n",
       "      <td>TIENDA DE ELECTRODOMÉSTICOS</td>\n",
       "      <td>COPPEL SUCURSAL ESPACIO AGUASCALIENTES</td>\n",
       "      <td>TECNOLOGICO 120, INT. CENTRO COMERCIAL ESPACIO...</td>\n",
       "      <td>AGUASCALIENTES</td>\n",
       "      <td>AGUASCALIENTES</td>\n",
       "      <td>21.87949</td>\n",
       "      <td>-102.260011</td>\n",
       "    </tr>\n",
       "    <tr>\n",
       "      <th>4</th>\n",
       "      <td>BATIDORAS</td>\n",
       "      <td>FPSTHM3532 O FPSTHM3532-013. MANUAL. 6 VELOCID...</td>\n",
       "      <td>OSTER</td>\n",
       "      <td>APARATOS ELECTRICOS</td>\n",
       "      <td>ELECTRODOMESTICOS</td>\n",
       "      <td>669.0</td>\n",
       "      <td>2024-01-02</td>\n",
       "      <td>COPPEL</td>\n",
       "      <td>TIENDA DE ELECTRODOMÉSTICOS</td>\n",
       "      <td>COPPEL SUCURSAL ESPACIO AGUASCALIENTES</td>\n",
       "      <td>TECNOLOGICO 120, INT. CENTRO COMERCIAL ESPACIO...</td>\n",
       "      <td>AGUASCALIENTES</td>\n",
       "      <td>AGUASCALIENTES</td>\n",
       "      <td>21.87949</td>\n",
       "      <td>-102.260011</td>\n",
       "    </tr>\n",
       "  </tbody>\n",
       "</table>\n",
       "</div>"
      ],
      "text/plain": [
       "          PRODUCTO                                       PRESENTACION  \\\n",
       "0      ASPIRADORAS                   HV-120 KG3 A. POTENCIA 400 WATTS   \n",
       "1  BARRA DE SONIDO  S40 Q. BLUETOOTH, USB. POTENCIA 300 W. SONIDO 2.1   \n",
       "2  BARRA DE SONIDO  HT-S20R. BLUETOOTH, USB. POTENCIA 400 W. SONID...   \n",
       "3  BARRA DE SONIDO  S-400 O HT-S400. BLUETOOTH. USB. POTENCIA 330 ...   \n",
       "4        BATIDORAS  FPSTHM3532 O FPSTHM3532-013. MANUAL. 6 VELOCID...   \n",
       "\n",
       "                                      MARCA              CATEGORIA  \\\n",
       "0  KOBLENZ. ASPIRADORA MANUAL DE ALTO PODER    APARATOS ELECTRICOS   \n",
       "1                                        LG  APARATOS ELECTRONICOS   \n",
       "2                                      SONY  APARATOS ELECTRONICOS   \n",
       "3                                      SONY  APARATOS ELECTRONICOS   \n",
       "4                                     OSTER    APARATOS ELECTRICOS   \n",
       "\n",
       "            CATALOGO  PRECIO FECHA_REGISTRO CADENA_COMERCIAL  \\\n",
       "0  ELECTRODOMESTICOS   899.0     2024-01-02           COPPEL   \n",
       "1  ELECTRODOMESTICOS  4299.0     2024-01-02           COPPEL   \n",
       "2  ELECTRODOMESTICOS  4499.0     2024-01-02           COPPEL   \n",
       "3  ELECTRODOMESTICOS  4899.0     2024-01-02           COPPEL   \n",
       "4  ELECTRODOMESTICOS   669.0     2024-01-02           COPPEL   \n",
       "\n",
       "                          GIRO                        NOMBRE_COMERCIAL  \\\n",
       "0  TIENDA DE ELECTRODOMÉSTICOS  COPPEL SUCURSAL ESPACIO AGUASCALIENTES   \n",
       "1  TIENDA DE ELECTRODOMÉSTICOS  COPPEL SUCURSAL ESPACIO AGUASCALIENTES   \n",
       "2  TIENDA DE ELECTRODOMÉSTICOS  COPPEL SUCURSAL ESPACIO AGUASCALIENTES   \n",
       "3  TIENDA DE ELECTRODOMÉSTICOS  COPPEL SUCURSAL ESPACIO AGUASCALIENTES   \n",
       "4  TIENDA DE ELECTRODOMÉSTICOS  COPPEL SUCURSAL ESPACIO AGUASCALIENTES   \n",
       "\n",
       "                                           DIRECCION          ESTADO  \\\n",
       "0  TECNOLOGICO 120, INT. CENTRO COMERCIAL ESPACIO...  AGUASCALIENTES   \n",
       "1  TECNOLOGICO 120, INT. CENTRO COMERCIAL ESPACIO...  AGUASCALIENTES   \n",
       "2  TECNOLOGICO 120, INT. CENTRO COMERCIAL ESPACIO...  AGUASCALIENTES   \n",
       "3  TECNOLOGICO 120, INT. CENTRO COMERCIAL ESPACIO...  AGUASCALIENTES   \n",
       "4  TECNOLOGICO 120, INT. CENTRO COMERCIAL ESPACIO...  AGUASCALIENTES   \n",
       "\n",
       "        MUNICIPIO   LATITUD    LONGITUD  \n",
       "0  AGUASCALIENTES  21.87949 -102.260011  \n",
       "1  AGUASCALIENTES  21.87949 -102.260011  \n",
       "2  AGUASCALIENTES  21.87949 -102.260011  \n",
       "3  AGUASCALIENTES  21.87949 -102.260011  \n",
       "4  AGUASCALIENTES  21.87949 -102.260011  "
      ]
     },
     "execution_count": 12,
     "metadata": {},
     "output_type": "execute_result"
    }
   ],
   "source": [
    "#Check out data\n",
    "df_01_2024_P1.head()"
   ]
  },
  {
   "cell_type": "markdown",
   "id": "6b16fcf9-980c-481d-b0a7-4983f77b8dc2",
   "metadata": {
    "tags": []
   },
   "source": [
    "## CREATE A DATAFRAME FOR 2024 DATA AND CHECK IT"
   ]
  },
  {
   "cell_type": "code",
   "execution_count": 13,
   "id": "ff46c89d-1f73-4858-bbac-c485cef1c1fc",
   "metadata": {
    "tags": []
   },
   "outputs": [],
   "source": [
    "#Define a dataframe for 2024 records\n",
    "df_qqp_2024 = pd.concat([df_01_2024_P1, df_01_2024_P2, df_02_2024_P1, df_02_2024_P2, df_03_2024_P1,\n",
    "                        df_03_2024_P2, df_04_2024_P1, df_04_2024_P2, df_05_2024_P1, df_05_2024_P2])\n"
   ]
  },
  {
   "cell_type": "code",
   "execution_count": 14,
   "id": "97982043-74f4-4c52-8887-a8e4c0523fa5",
   "metadata": {
    "tags": []
   },
   "outputs": [
    {
     "name": "stdout",
     "output_type": "stream",
     "text": [
      "<class 'pandas.core.frame.DataFrame'>\n",
      "Index: 5867689 entries, 0 to 354405\n",
      "Data columns (total 15 columns):\n",
      " #   Column            Dtype  \n",
      "---  ------            -----  \n",
      " 0   PRODUCTO          object \n",
      " 1   PRESENTACION      object \n",
      " 2   MARCA             object \n",
      " 3   CATEGORIA         object \n",
      " 4   CATALOGO          object \n",
      " 5   PRECIO            float64\n",
      " 6   FECHA_REGISTRO    object \n",
      " 7   CADENA_COMERCIAL  object \n",
      " 8   GIRO              object \n",
      " 9   NOMBRE_COMERCIAL  object \n",
      " 10  DIRECCION         object \n",
      " 11  ESTADO            object \n",
      " 12  MUNICIPIO         object \n",
      " 13  LATITUD           float64\n",
      " 14  LONGITUD          float64\n",
      "dtypes: float64(3), object(12)\n",
      "memory usage: 716.3+ MB\n"
     ]
    }
   ],
   "source": [
    "#Columns data type is\n",
    "df_qqp_2024.info()"
   ]
  },
  {
   "cell_type": "code",
   "execution_count": 15,
   "id": "568c5404-b608-4c9f-942c-da9806cb06ac",
   "metadata": {
    "tags": []
   },
   "outputs": [],
   "source": [
    "#Transform to datetime\n",
    "df_qqp_2024['FECHA_REGISTRO'] = pd.to_datetime(df_qqp_2024['FECHA_REGISTRO'])"
   ]
  },
  {
   "cell_type": "code",
   "execution_count": 16,
   "id": "e64097a8-87ac-4ee2-83f7-a79fb65e80b8",
   "metadata": {},
   "outputs": [
    {
     "data": {
      "text/plain": [
       "PRODUCTO               0\n",
       "PRESENTACION           0\n",
       "MARCA                  0\n",
       "CATEGORIA              0\n",
       "CATALOGO               0\n",
       "PRECIO                 0\n",
       "FECHA_REGISTRO         1\n",
       "CADENA_COMERCIAL       1\n",
       "GIRO                   1\n",
       "NOMBRE_COMERCIAL       1\n",
       "DIRECCION              1\n",
       "ESTADO                 1\n",
       "MUNICIPIO              1\n",
       "LATITUD             4332\n",
       "LONGITUD            4332\n",
       "dtype: int64"
      ]
     },
     "execution_count": 16,
     "metadata": {},
     "output_type": "execute_result"
    }
   ],
   "source": [
    "#Check for nulls\n",
    "df_qqp_2024.isna().sum()"
   ]
  },
  {
   "cell_type": "markdown",
   "id": "0b39cf25-5d69-4f45-9336-d5fe323b80d6",
   "metadata": {},
   "source": [
    "## ¿CUANTOS REGISTROS HAY HASTA AHORA EN 2024?"
   ]
  },
  {
   "cell_type": "code",
   "execution_count": 17,
   "id": "ee84cb1d-cd5b-43b0-978a-872a277833ef",
   "metadata": {},
   "outputs": [
    {
     "name": "stdout",
     "output_type": "stream",
     "text": [
      "En lo que va de 2024 la cantidad de registros sobre productos que se han hecho es 5867689\n"
     ]
    }
   ],
   "source": [
    "#Check number of row and columns\n",
    "print(f\"En lo que va de 2024 la cantidad de registros sobre productos que se han hecho es {df_qqp_2024.shape[0]}\")"
   ]
  },
  {
   "cell_type": "markdown",
   "id": "fae9886c-eca6-4363-9bed-5b947a93d33c",
   "metadata": {},
   "source": [
    "## ¿CUANTAS CATEGORIAS HAY?"
   ]
  },
  {
   "cell_type": "code",
   "execution_count": 18,
   "id": "70f08e11-d5e4-49ef-9c7d-27b338745b38",
   "metadata": {
    "tags": []
   },
   "outputs": [
    {
     "name": "stdout",
     "output_type": "stream",
     "text": [
      "La cantidad de categorias es monitoriadas en 2024 es 42\n"
     ]
    }
   ],
   "source": [
    "print(f\"La cantidad de categorias es monitoriadas en 2024 es {len(df_qqp_2024.CATEGORIA.unique())}\")"
   ]
  },
  {
   "cell_type": "markdown",
   "id": "b8980710-a777-483e-a601-16cc343a52cf",
   "metadata": {
    "tags": []
   },
   "source": [
    "## ¿CUANTAS CADENAS COMERCIALES HAY?"
   ]
  },
  {
   "cell_type": "code",
   "execution_count": 19,
   "id": "4ebcd348-e2ad-4db4-8ba2-da943cbb466f",
   "metadata": {
    "tags": []
   },
   "outputs": [
    {
     "name": "stdout",
     "output_type": "stream",
     "text": [
      "La cantidad de cadenas comerciales monitoreadas en 2024 es 214\n"
     ]
    }
   ],
   "source": [
    "print(f\"La cantidad de cadenas comerciales monitoreadas en 2024 es {len(df_qqp_2024.CADENA_COMERCIAL.unique())}\")"
   ]
  },
  {
   "cell_type": "markdown",
   "id": "fd95c34a-937c-49b9-abba-3819f29016ce",
   "metadata": {},
   "source": [
    "## ¿CUAL ES LA CATEGORIA MAS MONITOREADA PARA CADA ESTADO?"
   ]
  },
  {
   "cell_type": "code",
   "execution_count": 20,
   "id": "c6869d22-862d-4f17-8f4f-f8e494727107",
   "metadata": {
    "tags": []
   },
   "outputs": [],
   "source": [
    "#Group by \"ESTADO\" and \"CATEGORIA\" and count\n",
    "df_grouped_by_state = df_qqp_2024.groupby(['ESTADO','CATEGORIA']).size().reset_index(name='count')"
   ]
  },
  {
   "cell_type": "code",
   "execution_count": 21,
   "id": "da0f6c57-47ef-4c59-8db5-e2884d980b2b",
   "metadata": {
    "tags": []
   },
   "outputs": [
    {
     "data": {
      "text/html": [
       "<div>\n",
       "<style scoped>\n",
       "    .dataframe tbody tr th:only-of-type {\n",
       "        vertical-align: middle;\n",
       "    }\n",
       "\n",
       "    .dataframe tbody tr th {\n",
       "        vertical-align: top;\n",
       "    }\n",
       "\n",
       "    .dataframe thead th {\n",
       "        text-align: right;\n",
       "    }\n",
       "</style>\n",
       "<table border=\"1\" class=\"dataframe\">\n",
       "  <thead>\n",
       "    <tr style=\"text-align: right;\">\n",
       "      <th></th>\n",
       "      <th>ESTADO</th>\n",
       "      <th>CATEGORIA</th>\n",
       "      <th>count</th>\n",
       "    </tr>\n",
       "  </thead>\n",
       "  <tbody>\n",
       "    <tr>\n",
       "      <th>32</th>\n",
       "      <td>AGUASCALIENTES</td>\n",
       "      <td>MEDICAMENTOS</td>\n",
       "      <td>29119</td>\n",
       "    </tr>\n",
       "    <tr>\n",
       "      <th>74</th>\n",
       "      <td>BAJA CALIFORNIA</td>\n",
       "      <td>MEDICAMENTOS</td>\n",
       "      <td>32931</td>\n",
       "    </tr>\n",
       "    <tr>\n",
       "      <th>116</th>\n",
       "      <td>BAJA CALIFORNIA SUR</td>\n",
       "      <td>MEDICAMENTOS</td>\n",
       "      <td>25988</td>\n",
       "    </tr>\n",
       "    <tr>\n",
       "      <th>157</th>\n",
       "      <td>CAMPECHE</td>\n",
       "      <td>MEDICAMENTOS</td>\n",
       "      <td>30269</td>\n",
       "    </tr>\n",
       "    <tr>\n",
       "      <th>196</th>\n",
       "      <td>CHIAPAS</td>\n",
       "      <td>MEDICAMENTOS</td>\n",
       "      <td>13826</td>\n",
       "    </tr>\n",
       "    <tr>\n",
       "      <th>238</th>\n",
       "      <td>CHIHUAHUA</td>\n",
       "      <td>MEDICAMENTOS</td>\n",
       "      <td>34194</td>\n",
       "    </tr>\n",
       "    <tr>\n",
       "      <th>280</th>\n",
       "      <td>CIUDAD DE MÉXICO</td>\n",
       "      <td>MEDICAMENTOS</td>\n",
       "      <td>256474</td>\n",
       "    </tr>\n",
       "    <tr>\n",
       "      <th>322</th>\n",
       "      <td>COAHUILA DE ZARAGOZA</td>\n",
       "      <td>MEDICAMENTOS</td>\n",
       "      <td>31266</td>\n",
       "    </tr>\n",
       "    <tr>\n",
       "      <th>364</th>\n",
       "      <td>DURANGO</td>\n",
       "      <td>MEDICAMENTOS</td>\n",
       "      <td>28101</td>\n",
       "    </tr>\n",
       "    <tr>\n",
       "      <th>406</th>\n",
       "      <td>ESTADO DE MÉXICO</td>\n",
       "      <td>MEDICAMENTOS</td>\n",
       "      <td>162099</td>\n",
       "    </tr>\n",
       "    <tr>\n",
       "      <th>448</th>\n",
       "      <td>GUANAJUATO</td>\n",
       "      <td>MEDICAMENTOS</td>\n",
       "      <td>52851</td>\n",
       "    </tr>\n",
       "    <tr>\n",
       "      <th>490</th>\n",
       "      <td>GUERRERO</td>\n",
       "      <td>MEDICAMENTOS</td>\n",
       "      <td>9575</td>\n",
       "    </tr>\n",
       "    <tr>\n",
       "      <th>532</th>\n",
       "      <td>HIDALGO</td>\n",
       "      <td>MEDICAMENTOS</td>\n",
       "      <td>6047</td>\n",
       "    </tr>\n",
       "    <tr>\n",
       "      <th>574</th>\n",
       "      <td>JALISCO</td>\n",
       "      <td>MEDICAMENTOS</td>\n",
       "      <td>44362</td>\n",
       "    </tr>\n",
       "    <tr>\n",
       "      <th>615</th>\n",
       "      <td>MICHOACÁN DE OCAMPO</td>\n",
       "      <td>MEDICAMENTOS</td>\n",
       "      <td>29997</td>\n",
       "    </tr>\n",
       "    <tr>\n",
       "      <th>657</th>\n",
       "      <td>MORELOS</td>\n",
       "      <td>MEDICAMENTOS</td>\n",
       "      <td>14197</td>\n",
       "    </tr>\n",
       "    <tr>\n",
       "      <th>699</th>\n",
       "      <td>NUEVO LEÓN</td>\n",
       "      <td>MEDICAMENTOS</td>\n",
       "      <td>52247</td>\n",
       "    </tr>\n",
       "    <tr>\n",
       "      <th>741</th>\n",
       "      <td>OAXACA</td>\n",
       "      <td>MEDICAMENTOS</td>\n",
       "      <td>21599</td>\n",
       "    </tr>\n",
       "    <tr>\n",
       "      <th>783</th>\n",
       "      <td>PUEBLA</td>\n",
       "      <td>MEDICAMENTOS</td>\n",
       "      <td>25932</td>\n",
       "    </tr>\n",
       "    <tr>\n",
       "      <th>825</th>\n",
       "      <td>QUERÉTARO</td>\n",
       "      <td>MEDICAMENTOS</td>\n",
       "      <td>45319</td>\n",
       "    </tr>\n",
       "    <tr>\n",
       "      <th>866</th>\n",
       "      <td>QUINTANA ROO</td>\n",
       "      <td>MEDICAMENTOS</td>\n",
       "      <td>41699</td>\n",
       "    </tr>\n",
       "    <tr>\n",
       "      <th>908</th>\n",
       "      <td>SAN LUIS POTOSÍ</td>\n",
       "      <td>MEDICAMENTOS</td>\n",
       "      <td>31238</td>\n",
       "    </tr>\n",
       "    <tr>\n",
       "      <th>934</th>\n",
       "      <td>SINALOA</td>\n",
       "      <td>HORTALIZAS FRESCAS</td>\n",
       "      <td>3089</td>\n",
       "    </tr>\n",
       "    <tr>\n",
       "      <th>975</th>\n",
       "      <td>SONORA</td>\n",
       "      <td>MEDICAMENTOS</td>\n",
       "      <td>29471</td>\n",
       "    </tr>\n",
       "    <tr>\n",
       "      <th>1016</th>\n",
       "      <td>TABASCO</td>\n",
       "      <td>MEDICAMENTOS</td>\n",
       "      <td>42746</td>\n",
       "    </tr>\n",
       "    <tr>\n",
       "      <th>1058</th>\n",
       "      <td>TAMAULIPAS</td>\n",
       "      <td>MEDICAMENTOS</td>\n",
       "      <td>20969</td>\n",
       "    </tr>\n",
       "    <tr>\n",
       "      <th>1100</th>\n",
       "      <td>TLAXCALA</td>\n",
       "      <td>MEDICAMENTOS</td>\n",
       "      <td>16694</td>\n",
       "    </tr>\n",
       "    <tr>\n",
       "      <th>1142</th>\n",
       "      <td>VERACRUZ</td>\n",
       "      <td>MEDICAMENTOS</td>\n",
       "      <td>33060</td>\n",
       "    </tr>\n",
       "    <tr>\n",
       "      <th>1183</th>\n",
       "      <td>YUCATÁN</td>\n",
       "      <td>MEDICAMENTOS</td>\n",
       "      <td>36176</td>\n",
       "    </tr>\n",
       "    <tr>\n",
       "      <th>1225</th>\n",
       "      <td>ZACATECAS</td>\n",
       "      <td>MEDICAMENTOS</td>\n",
       "      <td>44326</td>\n",
       "    </tr>\n",
       "  </tbody>\n",
       "</table>\n",
       "</div>"
      ],
      "text/plain": [
       "                    ESTADO           CATEGORIA   count\n",
       "32          AGUASCALIENTES        MEDICAMENTOS   29119\n",
       "74         BAJA CALIFORNIA        MEDICAMENTOS   32931\n",
       "116    BAJA CALIFORNIA SUR        MEDICAMENTOS   25988\n",
       "157               CAMPECHE        MEDICAMENTOS   30269\n",
       "196                CHIAPAS        MEDICAMENTOS   13826\n",
       "238              CHIHUAHUA        MEDICAMENTOS   34194\n",
       "280       CIUDAD DE MÉXICO        MEDICAMENTOS  256474\n",
       "322   COAHUILA DE ZARAGOZA        MEDICAMENTOS   31266\n",
       "364                DURANGO        MEDICAMENTOS   28101\n",
       "406       ESTADO DE MÉXICO        MEDICAMENTOS  162099\n",
       "448             GUANAJUATO        MEDICAMENTOS   52851\n",
       "490               GUERRERO        MEDICAMENTOS    9575\n",
       "532                HIDALGO        MEDICAMENTOS    6047\n",
       "574                JALISCO        MEDICAMENTOS   44362\n",
       "615    MICHOACÁN DE OCAMPO        MEDICAMENTOS   29997\n",
       "657                MORELOS        MEDICAMENTOS   14197\n",
       "699             NUEVO LEÓN        MEDICAMENTOS   52247\n",
       "741                 OAXACA        MEDICAMENTOS   21599\n",
       "783                 PUEBLA        MEDICAMENTOS   25932\n",
       "825              QUERÉTARO        MEDICAMENTOS   45319\n",
       "866           QUINTANA ROO        MEDICAMENTOS   41699\n",
       "908        SAN LUIS POTOSÍ        MEDICAMENTOS   31238\n",
       "934                SINALOA  HORTALIZAS FRESCAS    3089\n",
       "975                 SONORA        MEDICAMENTOS   29471\n",
       "1016               TABASCO        MEDICAMENTOS   42746\n",
       "1058            TAMAULIPAS        MEDICAMENTOS   20969\n",
       "1100              TLAXCALA        MEDICAMENTOS   16694\n",
       "1142              VERACRUZ        MEDICAMENTOS   33060\n",
       "1183               YUCATÁN        MEDICAMENTOS   36176\n",
       "1225             ZACATECAS        MEDICAMENTOS   44326"
      ]
     },
     "execution_count": 21,
     "metadata": {},
     "output_type": "execute_result"
    }
   ],
   "source": [
    "#Get the the category with the most entries per state\n",
    "max_category_per_state = df_grouped_by_state.loc[df_grouped_by_state.groupby('ESTADO')['count'].idxmax()]\n",
    "\n",
    "#Check \n",
    "max_category_per_state"
   ]
  },
  {
   "cell_type": "markdown",
   "id": "59ce5e11-0e9f-4225-a49c-ed71e6b874c9",
   "metadata": {},
   "source": [
    "## ¿CUAL ES LA CADENA COMERCIAL CON MAS PRODUCTOS MONITOREADOS?"
   ]
  },
  {
   "cell_type": "code",
   "execution_count": 22,
   "id": "836a68d0-9d13-4c46-80e8-bdaea6e64196",
   "metadata": {
    "tags": []
   },
   "outputs": [
    {
     "data": {
      "text/plain": [
       "CADENA_COMERCIAL\n",
       "WAL-MART                920516\n",
       "HIPERMERCADO SORIANA    644258\n",
       "BODEGA AURRERA          630006\n",
       "MEGA SORIANA            497145\n",
       "CHEDRAUI                417032\n",
       "Name: count, dtype: int64"
      ]
     },
     "execution_count": 22,
     "metadata": {},
     "output_type": "execute_result"
    }
   ],
   "source": [
    "#Extract the top 10 companies with more products register in the database\n",
    "top_10_comercial_chain = df_qqp_2024[\"CADENA_COMERCIAL\"].value_counts().head(10)\n",
    "top_10_comercial_chain"
   ]
  },
  {
   "cell_type": "code",
   "execution_count": null,
   "id": "a5205b30",
   "metadata": {},
   "outputs": [],
   "source": [
    "# Create bar plot\n",
    "plt.figure(figsize=(12, 8))\n",
    "top_10_comercial_chain.plot(kind='bar', color='skyblue')\n",
    "\n",
    "# Config label and title\n",
    "plt.xlabel('Number of entries')\n",
    "plt.ylabel('Comercial chain')\n",
    "plt.title('Top 10 Comercial chain with more products registered')\n",
    "plt.xticks(rotation=45, ha='right')\n",
    "\n",
    "# Plot\n",
    "plt.tight_layout()\n",
    "plt.show()"
   ]
  },
  {
   "cell_type": "code",
   "execution_count": null,
   "id": "fe1e5e68",
   "metadata": {},
   "outputs": [],
   "source": [
    "## ¿CUALES SON LOS CATALOGOS CON MAS PRODUCTOS?"
   ]
  },
  {
   "cell_type": "code",
   "execution_count": null,
   "id": "c6cc656b",
   "metadata": {},
   "outputs": [],
   "source": [
    "#Extract the top 10 categories with more products register in the database\n",
    "top_10_catalog = df_qqp_2024[\"CATALOGO\"].value_counts().head(10)\n",
    "top_10_catalog"
   ]
  },
  {
   "cell_type": "code",
   "execution_count": null,
   "id": "7bd496cd",
   "metadata": {},
   "outputs": [],
   "source": [
    "# Create bar plot\n",
    "plt.figure(figsize=(12, 8))\n",
    "top_10_comercial_chain.plot(kind='bar', color='skyblue')\n",
    "\n",
    "# Config label and title\n",
    "plt.xlabel('Number of entries')\n",
    "plt.ylabel('Comercial chain')\n",
    "plt.title('Top 10 Comercial chain with more products registered')\n",
    "plt.xticks(rotation=45, ha='right')\n",
    "\n",
    "# Plot\n",
    "plt.tight_layout()\n",
    "plt.show()"
   ]
  }
 ],
 "metadata": {
  "kernelspec": {
   "display_name": "conda_python3",
   "language": "python",
   "name": "conda_python3"
  },
  "language_info": {
   "codemirror_mode": {
    "name": "ipython",
    "version": 3
   },
   "file_extension": ".py",
   "mimetype": "text/x-python",
   "name": "python",
   "nbconvert_exporter": "python",
   "pygments_lexer": "ipython3",
   "version": "3.10.14"
  }
 },
 "nbformat": 4,
 "nbformat_minor": 5
}
